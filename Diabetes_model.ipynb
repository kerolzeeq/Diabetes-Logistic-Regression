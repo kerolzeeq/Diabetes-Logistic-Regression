{
  "nbformat": 4,
  "nbformat_minor": 0,
  "metadata": {
    "colab": {
      "name": "Diabetes model.ipynb",
      "provenance": [],
      "collapsed_sections": [
        "n7TuLI-B5_-J"
      ],
      "toc_visible": true
    },
    "kernelspec": {
      "name": "python3",
      "display_name": "Python 3"
    },
    "language_info": {
      "name": "python"
    }
  },
  "cells": [
    {
      "cell_type": "markdown",
      "metadata": {
        "id": "K4VSgykKjPSt"
      },
      "source": [
        "## Import necessary libraries"
      ]
    },
    {
      "cell_type": "code",
      "metadata": {
        "id": "hkLlqANNRVCE"
      },
      "source": [
        "import pandas as pd\n",
        "import numpy as np\n",
        "import matplotlib.pyplot as plt\n",
        "import seaborn as sns\n",
        "from scipy.stats import pearsonr\n",
        "%matplotlib inline"
      ],
      "execution_count": null,
      "outputs": []
    },
    {
      "cell_type": "markdown",
      "metadata": {
        "id": "ZyZ66x9Pjj70"
      },
      "source": [
        "## Import dataset"
      ]
    },
    {
      "cell_type": "code",
      "metadata": {
        "id": "bIrArWMLDUFW",
        "colab": {
          "base_uri": "https://localhost:8080/",
          "height": 195
        },
        "outputId": "cd2b1159-e129-47da-f7c0-1bf14825a427"
      },
      "source": [
        "df = pd.read_csv('https://raw.githubusercontent.com/kurkurzz/diabetes-classification/main/diabetes.csv')\n",
        "df.head()"
      ],
      "execution_count": null,
      "outputs": [
        {
          "output_type": "execute_result",
          "data": {
            "text/html": [
              "<div>\n",
              "<style scoped>\n",
              "    .dataframe tbody tr th:only-of-type {\n",
              "        vertical-align: middle;\n",
              "    }\n",
              "\n",
              "    .dataframe tbody tr th {\n",
              "        vertical-align: top;\n",
              "    }\n",
              "\n",
              "    .dataframe thead th {\n",
              "        text-align: right;\n",
              "    }\n",
              "</style>\n",
              "<table border=\"1\" class=\"dataframe\">\n",
              "  <thead>\n",
              "    <tr style=\"text-align: right;\">\n",
              "      <th></th>\n",
              "      <th>Pregnancies</th>\n",
              "      <th>Glucose</th>\n",
              "      <th>BloodPressure</th>\n",
              "      <th>SkinThickness</th>\n",
              "      <th>Insulin</th>\n",
              "      <th>BMI</th>\n",
              "      <th>DiabetesPedigreeFunction</th>\n",
              "      <th>Age</th>\n",
              "      <th>Outcome</th>\n",
              "    </tr>\n",
              "  </thead>\n",
              "  <tbody>\n",
              "    <tr>\n",
              "      <th>0</th>\n",
              "      <td>6</td>\n",
              "      <td>148</td>\n",
              "      <td>72</td>\n",
              "      <td>35</td>\n",
              "      <td>0</td>\n",
              "      <td>33.6</td>\n",
              "      <td>0.627</td>\n",
              "      <td>50</td>\n",
              "      <td>1</td>\n",
              "    </tr>\n",
              "    <tr>\n",
              "      <th>1</th>\n",
              "      <td>1</td>\n",
              "      <td>85</td>\n",
              "      <td>66</td>\n",
              "      <td>29</td>\n",
              "      <td>0</td>\n",
              "      <td>26.6</td>\n",
              "      <td>0.351</td>\n",
              "      <td>31</td>\n",
              "      <td>0</td>\n",
              "    </tr>\n",
              "    <tr>\n",
              "      <th>2</th>\n",
              "      <td>8</td>\n",
              "      <td>183</td>\n",
              "      <td>64</td>\n",
              "      <td>0</td>\n",
              "      <td>0</td>\n",
              "      <td>23.3</td>\n",
              "      <td>0.672</td>\n",
              "      <td>32</td>\n",
              "      <td>1</td>\n",
              "    </tr>\n",
              "    <tr>\n",
              "      <th>3</th>\n",
              "      <td>1</td>\n",
              "      <td>89</td>\n",
              "      <td>66</td>\n",
              "      <td>23</td>\n",
              "      <td>94</td>\n",
              "      <td>28.1</td>\n",
              "      <td>0.167</td>\n",
              "      <td>21</td>\n",
              "      <td>0</td>\n",
              "    </tr>\n",
              "    <tr>\n",
              "      <th>4</th>\n",
              "      <td>0</td>\n",
              "      <td>137</td>\n",
              "      <td>40</td>\n",
              "      <td>35</td>\n",
              "      <td>168</td>\n",
              "      <td>43.1</td>\n",
              "      <td>2.288</td>\n",
              "      <td>33</td>\n",
              "      <td>1</td>\n",
              "    </tr>\n",
              "  </tbody>\n",
              "</table>\n",
              "</div>"
            ],
            "text/plain": [
              "   Pregnancies  Glucose  BloodPressure  ...  DiabetesPedigreeFunction  Age  Outcome\n",
              "0            6      148             72  ...                     0.627   50        1\n",
              "1            1       85             66  ...                     0.351   31        0\n",
              "2            8      183             64  ...                     0.672   32        1\n",
              "3            1       89             66  ...                     0.167   21        0\n",
              "4            0      137             40  ...                     2.288   33        1\n",
              "\n",
              "[5 rows x 9 columns]"
            ]
          },
          "metadata": {
            "tags": []
          },
          "execution_count": 2
        }
      ]
    },
    {
      "cell_type": "code",
      "metadata": {
        "colab": {
          "base_uri": "https://localhost:8080/",
          "height": 297
        },
        "id": "m3CodYloQgKk",
        "outputId": "770b46d8-ba84-4886-e8ae-6be394ce2357"
      },
      "source": [
        "df.describe()"
      ],
      "execution_count": null,
      "outputs": [
        {
          "output_type": "execute_result",
          "data": {
            "text/html": [
              "<div>\n",
              "<style scoped>\n",
              "    .dataframe tbody tr th:only-of-type {\n",
              "        vertical-align: middle;\n",
              "    }\n",
              "\n",
              "    .dataframe tbody tr th {\n",
              "        vertical-align: top;\n",
              "    }\n",
              "\n",
              "    .dataframe thead th {\n",
              "        text-align: right;\n",
              "    }\n",
              "</style>\n",
              "<table border=\"1\" class=\"dataframe\">\n",
              "  <thead>\n",
              "    <tr style=\"text-align: right;\">\n",
              "      <th></th>\n",
              "      <th>Pregnancies</th>\n",
              "      <th>Glucose</th>\n",
              "      <th>BloodPressure</th>\n",
              "      <th>SkinThickness</th>\n",
              "      <th>Insulin</th>\n",
              "      <th>BMI</th>\n",
              "      <th>DiabetesPedigreeFunction</th>\n",
              "      <th>Age</th>\n",
              "      <th>Outcome</th>\n",
              "    </tr>\n",
              "  </thead>\n",
              "  <tbody>\n",
              "    <tr>\n",
              "      <th>count</th>\n",
              "      <td>768.000000</td>\n",
              "      <td>768.000000</td>\n",
              "      <td>768.000000</td>\n",
              "      <td>768.000000</td>\n",
              "      <td>768.000000</td>\n",
              "      <td>768.000000</td>\n",
              "      <td>768.000000</td>\n",
              "      <td>768.000000</td>\n",
              "      <td>768.000000</td>\n",
              "    </tr>\n",
              "    <tr>\n",
              "      <th>mean</th>\n",
              "      <td>3.845052</td>\n",
              "      <td>120.894531</td>\n",
              "      <td>69.105469</td>\n",
              "      <td>20.536458</td>\n",
              "      <td>79.799479</td>\n",
              "      <td>31.992578</td>\n",
              "      <td>0.471876</td>\n",
              "      <td>33.240885</td>\n",
              "      <td>0.348958</td>\n",
              "    </tr>\n",
              "    <tr>\n",
              "      <th>std</th>\n",
              "      <td>3.369578</td>\n",
              "      <td>31.972618</td>\n",
              "      <td>19.355807</td>\n",
              "      <td>15.952218</td>\n",
              "      <td>115.244002</td>\n",
              "      <td>7.884160</td>\n",
              "      <td>0.331329</td>\n",
              "      <td>11.760232</td>\n",
              "      <td>0.476951</td>\n",
              "    </tr>\n",
              "    <tr>\n",
              "      <th>min</th>\n",
              "      <td>0.000000</td>\n",
              "      <td>0.000000</td>\n",
              "      <td>0.000000</td>\n",
              "      <td>0.000000</td>\n",
              "      <td>0.000000</td>\n",
              "      <td>0.000000</td>\n",
              "      <td>0.078000</td>\n",
              "      <td>21.000000</td>\n",
              "      <td>0.000000</td>\n",
              "    </tr>\n",
              "    <tr>\n",
              "      <th>25%</th>\n",
              "      <td>1.000000</td>\n",
              "      <td>99.000000</td>\n",
              "      <td>62.000000</td>\n",
              "      <td>0.000000</td>\n",
              "      <td>0.000000</td>\n",
              "      <td>27.300000</td>\n",
              "      <td>0.243750</td>\n",
              "      <td>24.000000</td>\n",
              "      <td>0.000000</td>\n",
              "    </tr>\n",
              "    <tr>\n",
              "      <th>50%</th>\n",
              "      <td>3.000000</td>\n",
              "      <td>117.000000</td>\n",
              "      <td>72.000000</td>\n",
              "      <td>23.000000</td>\n",
              "      <td>30.500000</td>\n",
              "      <td>32.000000</td>\n",
              "      <td>0.372500</td>\n",
              "      <td>29.000000</td>\n",
              "      <td>0.000000</td>\n",
              "    </tr>\n",
              "    <tr>\n",
              "      <th>75%</th>\n",
              "      <td>6.000000</td>\n",
              "      <td>140.250000</td>\n",
              "      <td>80.000000</td>\n",
              "      <td>32.000000</td>\n",
              "      <td>127.250000</td>\n",
              "      <td>36.600000</td>\n",
              "      <td>0.626250</td>\n",
              "      <td>41.000000</td>\n",
              "      <td>1.000000</td>\n",
              "    </tr>\n",
              "    <tr>\n",
              "      <th>max</th>\n",
              "      <td>17.000000</td>\n",
              "      <td>199.000000</td>\n",
              "      <td>122.000000</td>\n",
              "      <td>99.000000</td>\n",
              "      <td>846.000000</td>\n",
              "      <td>67.100000</td>\n",
              "      <td>2.420000</td>\n",
              "      <td>81.000000</td>\n",
              "      <td>1.000000</td>\n",
              "    </tr>\n",
              "  </tbody>\n",
              "</table>\n",
              "</div>"
            ],
            "text/plain": [
              "       Pregnancies     Glucose  ...         Age     Outcome\n",
              "count   768.000000  768.000000  ...  768.000000  768.000000\n",
              "mean      3.845052  120.894531  ...   33.240885    0.348958\n",
              "std       3.369578   31.972618  ...   11.760232    0.476951\n",
              "min       0.000000    0.000000  ...   21.000000    0.000000\n",
              "25%       1.000000   99.000000  ...   24.000000    0.000000\n",
              "50%       3.000000  117.000000  ...   29.000000    0.000000\n",
              "75%       6.000000  140.250000  ...   41.000000    1.000000\n",
              "max      17.000000  199.000000  ...   81.000000    1.000000\n",
              "\n",
              "[8 rows x 9 columns]"
            ]
          },
          "metadata": {
            "tags": []
          },
          "execution_count": 4
        }
      ]
    },
    {
      "cell_type": "markdown",
      "metadata": {
        "id": "WGMOm94pneNo"
      },
      "source": [
        "## Data cleaning\n",
        "\n",
        "Features like Glucose, BloodPressure, SkinThickness, Insulin and BMI cannot have 0 values. So all these rows will be dropped."
      ]
    },
    {
      "cell_type": "code",
      "metadata": {
        "colab": {
          "base_uri": "https://localhost:8080/",
          "height": 284
        },
        "id": "9RrccHu0IQlA",
        "outputId": "0952eba5-323e-495d-a7fd-bd362cef252c"
      },
      "source": [
        "df[['Glucose','BloodPressure','SkinThickness','Insulin','BMI']] = df[['Glucose','BloodPressure','SkinThickness','Insulin','BMI']].replace(0,np.NaN)\n",
        "df = df.dropna() # remove rows with null entries\n",
        "df.describe()"
      ],
      "execution_count": null,
      "outputs": [
        {
          "output_type": "execute_result",
          "data": {
            "text/html": [
              "<div>\n",
              "<style scoped>\n",
              "    .dataframe tbody tr th:only-of-type {\n",
              "        vertical-align: middle;\n",
              "    }\n",
              "\n",
              "    .dataframe tbody tr th {\n",
              "        vertical-align: top;\n",
              "    }\n",
              "\n",
              "    .dataframe thead th {\n",
              "        text-align: right;\n",
              "    }\n",
              "</style>\n",
              "<table border=\"1\" class=\"dataframe\">\n",
              "  <thead>\n",
              "    <tr style=\"text-align: right;\">\n",
              "      <th></th>\n",
              "      <th>Pregnancies</th>\n",
              "      <th>Glucose</th>\n",
              "      <th>BloodPressure</th>\n",
              "      <th>SkinThickness</th>\n",
              "      <th>Insulin</th>\n",
              "      <th>BMI</th>\n",
              "      <th>DiabetesPedigreeFunction</th>\n",
              "      <th>Age</th>\n",
              "      <th>Outcome</th>\n",
              "    </tr>\n",
              "  </thead>\n",
              "  <tbody>\n",
              "    <tr>\n",
              "      <th>count</th>\n",
              "      <td>392.000000</td>\n",
              "      <td>392.000000</td>\n",
              "      <td>392.000000</td>\n",
              "      <td>392.000000</td>\n",
              "      <td>392.000000</td>\n",
              "      <td>392.000000</td>\n",
              "      <td>392.000000</td>\n",
              "      <td>392.000000</td>\n",
              "      <td>392.000000</td>\n",
              "    </tr>\n",
              "    <tr>\n",
              "      <th>mean</th>\n",
              "      <td>3.301020</td>\n",
              "      <td>122.627551</td>\n",
              "      <td>70.663265</td>\n",
              "      <td>29.145408</td>\n",
              "      <td>156.056122</td>\n",
              "      <td>33.086224</td>\n",
              "      <td>0.523046</td>\n",
              "      <td>30.864796</td>\n",
              "      <td>0.331633</td>\n",
              "    </tr>\n",
              "    <tr>\n",
              "      <th>std</th>\n",
              "      <td>3.211424</td>\n",
              "      <td>30.860781</td>\n",
              "      <td>12.496092</td>\n",
              "      <td>10.516424</td>\n",
              "      <td>118.841690</td>\n",
              "      <td>7.027659</td>\n",
              "      <td>0.345488</td>\n",
              "      <td>10.200777</td>\n",
              "      <td>0.471401</td>\n",
              "    </tr>\n",
              "    <tr>\n",
              "      <th>min</th>\n",
              "      <td>0.000000</td>\n",
              "      <td>56.000000</td>\n",
              "      <td>24.000000</td>\n",
              "      <td>7.000000</td>\n",
              "      <td>14.000000</td>\n",
              "      <td>18.200000</td>\n",
              "      <td>0.085000</td>\n",
              "      <td>21.000000</td>\n",
              "      <td>0.000000</td>\n",
              "    </tr>\n",
              "    <tr>\n",
              "      <th>25%</th>\n",
              "      <td>1.000000</td>\n",
              "      <td>99.000000</td>\n",
              "      <td>62.000000</td>\n",
              "      <td>21.000000</td>\n",
              "      <td>76.750000</td>\n",
              "      <td>28.400000</td>\n",
              "      <td>0.269750</td>\n",
              "      <td>23.000000</td>\n",
              "      <td>0.000000</td>\n",
              "    </tr>\n",
              "    <tr>\n",
              "      <th>50%</th>\n",
              "      <td>2.000000</td>\n",
              "      <td>119.000000</td>\n",
              "      <td>70.000000</td>\n",
              "      <td>29.000000</td>\n",
              "      <td>125.500000</td>\n",
              "      <td>33.200000</td>\n",
              "      <td>0.449500</td>\n",
              "      <td>27.000000</td>\n",
              "      <td>0.000000</td>\n",
              "    </tr>\n",
              "    <tr>\n",
              "      <th>75%</th>\n",
              "      <td>5.000000</td>\n",
              "      <td>143.000000</td>\n",
              "      <td>78.000000</td>\n",
              "      <td>37.000000</td>\n",
              "      <td>190.000000</td>\n",
              "      <td>37.100000</td>\n",
              "      <td>0.687000</td>\n",
              "      <td>36.000000</td>\n",
              "      <td>1.000000</td>\n",
              "    </tr>\n",
              "    <tr>\n",
              "      <th>max</th>\n",
              "      <td>17.000000</td>\n",
              "      <td>198.000000</td>\n",
              "      <td>110.000000</td>\n",
              "      <td>63.000000</td>\n",
              "      <td>846.000000</td>\n",
              "      <td>67.100000</td>\n",
              "      <td>2.420000</td>\n",
              "      <td>81.000000</td>\n",
              "      <td>1.000000</td>\n",
              "    </tr>\n",
              "  </tbody>\n",
              "</table>\n",
              "</div>"
            ],
            "text/plain": [
              "       Pregnancies     Glucose  ...         Age     Outcome\n",
              "count   392.000000  392.000000  ...  392.000000  392.000000\n",
              "mean      3.301020  122.627551  ...   30.864796    0.331633\n",
              "std       3.211424   30.860781  ...   10.200777    0.471401\n",
              "min       0.000000   56.000000  ...   21.000000    0.000000\n",
              "25%       1.000000   99.000000  ...   23.000000    0.000000\n",
              "50%       2.000000  119.000000  ...   27.000000    0.000000\n",
              "75%       5.000000  143.000000  ...   36.000000    1.000000\n",
              "max      17.000000  198.000000  ...   81.000000    1.000000\n",
              "\n",
              "[8 rows x 9 columns]"
            ]
          },
          "metadata": {
            "tags": []
          },
          "execution_count": 3
        }
      ]
    },
    {
      "cell_type": "markdown",
      "metadata": {
        "id": "VFNPkDGkA3y8"
      },
      "source": [
        "## Standardize data\n",
        "Subtract mean and divide by standard deviation from all features."
      ]
    },
    {
      "cell_type": "code",
      "metadata": {
        "colab": {
          "base_uri": "https://localhost:8080/",
          "height": 402
        },
        "id": "JyF0fkyG_B1j",
        "outputId": "c50725f2-af43-473d-c979-15cf8c24ac4f"
      },
      "source": [
        "df_input = df[['Age','BMI','BloodPressure','DiabetesPedigreeFunction','Glucose','Insulin','Pregnancies', 'SkinThickness']]\n",
        "df_input = (df_input-df_input.mean())/df_input.std()\n",
        "df[['Age','BMI','BloodPressure','DiabetesPedigreeFunction','Glucose','Insulin','Pregnancies', 'SkinThickness']] = df_input\n",
        "df"
      ],
      "execution_count": null,
      "outputs": [
        {
          "output_type": "execute_result",
          "data": {
            "text/html": [
              "<div>\n",
              "<style scoped>\n",
              "    .dataframe tbody tr th:only-of-type {\n",
              "        vertical-align: middle;\n",
              "    }\n",
              "\n",
              "    .dataframe tbody tr th {\n",
              "        vertical-align: top;\n",
              "    }\n",
              "\n",
              "    .dataframe thead th {\n",
              "        text-align: right;\n",
              "    }\n",
              "</style>\n",
              "<table border=\"1\" class=\"dataframe\">\n",
              "  <thead>\n",
              "    <tr style=\"text-align: right;\">\n",
              "      <th></th>\n",
              "      <th>Pregnancies</th>\n",
              "      <th>Glucose</th>\n",
              "      <th>BloodPressure</th>\n",
              "      <th>SkinThickness</th>\n",
              "      <th>Insulin</th>\n",
              "      <th>BMI</th>\n",
              "      <th>DiabetesPedigreeFunction</th>\n",
              "      <th>Age</th>\n",
              "      <th>Outcome</th>\n",
              "    </tr>\n",
              "  </thead>\n",
              "  <tbody>\n",
              "    <tr>\n",
              "      <th>3</th>\n",
              "      <td>-0.716511</td>\n",
              "      <td>-1.089653</td>\n",
              "      <td>-0.373178</td>\n",
              "      <td>-0.584363</td>\n",
              "      <td>-0.522175</td>\n",
              "      <td>-0.709514</td>\n",
              "      <td>-1.030559</td>\n",
              "      <td>-0.967063</td>\n",
              "      <td>0</td>\n",
              "    </tr>\n",
              "    <tr>\n",
              "      <th>4</th>\n",
              "      <td>-1.027899</td>\n",
              "      <td>0.465719</td>\n",
              "      <td>-2.453828</td>\n",
              "      <td>0.556709</td>\n",
              "      <td>0.100502</td>\n",
              "      <td>1.424909</td>\n",
              "      <td>5.108582</td>\n",
              "      <td>0.209318</td>\n",
              "      <td>1</td>\n",
              "    </tr>\n",
              "    <tr>\n",
              "      <th>6</th>\n",
              "      <td>-0.093734</td>\n",
              "      <td>-1.446093</td>\n",
              "      <td>-1.653578</td>\n",
              "      <td>0.271441</td>\n",
              "      <td>-0.572662</td>\n",
              "      <td>-0.296859</td>\n",
              "      <td>-0.796108</td>\n",
              "      <td>-0.476904</td>\n",
              "      <td>1</td>\n",
              "    </tr>\n",
              "    <tr>\n",
              "      <th>8</th>\n",
              "      <td>-0.405123</td>\n",
              "      <td>2.409934</td>\n",
              "      <td>-0.053078</td>\n",
              "      <td>1.507603</td>\n",
              "      <td>3.255961</td>\n",
              "      <td>-0.368007</td>\n",
              "      <td>-1.056609</td>\n",
              "      <td>2.169953</td>\n",
              "      <td>1</td>\n",
              "    </tr>\n",
              "    <tr>\n",
              "      <th>13</th>\n",
              "      <td>-0.716511</td>\n",
              "      <td>2.150705</td>\n",
              "      <td>-0.853328</td>\n",
              "      <td>-0.584363</td>\n",
              "      <td>5.805571</td>\n",
              "      <td>-0.424924</td>\n",
              "      <td>-0.361940</td>\n",
              "      <td>2.758143</td>\n",
              "      <td>1</td>\n",
              "    </tr>\n",
              "    <tr>\n",
              "      <th>...</th>\n",
              "      <td>...</td>\n",
              "      <td>...</td>\n",
              "      <td>...</td>\n",
              "      <td>...</td>\n",
              "      <td>...</td>\n",
              "      <td>...</td>\n",
              "      <td>...</td>\n",
              "      <td>...</td>\n",
              "      <td>...</td>\n",
              "    </tr>\n",
              "    <tr>\n",
              "      <th>753</th>\n",
              "      <td>-1.027899</td>\n",
              "      <td>1.891477</td>\n",
              "      <td>1.387373</td>\n",
              "      <td>1.412514</td>\n",
              "      <td>2.978280</td>\n",
              "      <td>1.453368</td>\n",
              "      <td>-0.871364</td>\n",
              "      <td>-0.476904</td>\n",
              "      <td>1</td>\n",
              "    </tr>\n",
              "    <tr>\n",
              "      <th>755</th>\n",
              "      <td>-0.716511</td>\n",
              "      <td>0.174087</td>\n",
              "      <td>1.387373</td>\n",
              "      <td>0.937067</td>\n",
              "      <td>-0.387542</td>\n",
              "      <td>0.485763</td>\n",
              "      <td>1.545507</td>\n",
              "      <td>0.601445</td>\n",
              "      <td>1</td>\n",
              "    </tr>\n",
              "    <tr>\n",
              "      <th>760</th>\n",
              "      <td>-0.405123</td>\n",
              "      <td>-1.122057</td>\n",
              "      <td>-1.013378</td>\n",
              "      <td>-0.299095</td>\n",
              "      <td>-1.178510</td>\n",
              "      <td>-0.666826</td>\n",
              "      <td>0.703220</td>\n",
              "      <td>-0.869031</td>\n",
              "      <td>0</td>\n",
              "    </tr>\n",
              "    <tr>\n",
              "      <th>763</th>\n",
              "      <td>2.085984</td>\n",
              "      <td>-0.700810</td>\n",
              "      <td>0.427072</td>\n",
              "      <td>1.792871</td>\n",
              "      <td>0.201477</td>\n",
              "      <td>-0.026499</td>\n",
              "      <td>-1.018981</td>\n",
              "      <td>3.150270</td>\n",
              "      <td>0</td>\n",
              "    </tr>\n",
              "    <tr>\n",
              "      <th>765</th>\n",
              "      <td>0.529042</td>\n",
              "      <td>-0.052738</td>\n",
              "      <td>0.106972</td>\n",
              "      <td>-0.584363</td>\n",
              "      <td>-0.370713</td>\n",
              "      <td>-0.979875</td>\n",
              "      <td>-0.804792</td>\n",
              "      <td>-0.084777</td>\n",
              "      <td>0</td>\n",
              "    </tr>\n",
              "  </tbody>\n",
              "</table>\n",
              "<p>392 rows × 9 columns</p>\n",
              "</div>"
            ],
            "text/plain": [
              "     Pregnancies   Glucose  ...       Age  Outcome\n",
              "3      -0.716511 -1.089653  ... -0.967063        0\n",
              "4      -1.027899  0.465719  ...  0.209318        1\n",
              "6      -0.093734 -1.446093  ... -0.476904        1\n",
              "8      -0.405123  2.409934  ...  2.169953        1\n",
              "13     -0.716511  2.150705  ...  2.758143        1\n",
              "..           ...       ...  ...       ...      ...\n",
              "753    -1.027899  1.891477  ... -0.476904        1\n",
              "755    -0.716511  0.174087  ...  0.601445        1\n",
              "760    -0.405123 -1.122057  ... -0.869031        0\n",
              "763     2.085984 -0.700810  ...  3.150270        0\n",
              "765     0.529042 -0.052738  ... -0.084777        0\n",
              "\n",
              "[392 rows x 9 columns]"
            ]
          },
          "metadata": {
            "tags": []
          },
          "execution_count": 4
        }
      ]
    },
    {
      "cell_type": "markdown",
      "metadata": {
        "id": "5Zc9Ijqanpca"
      },
      "source": [
        "## Data Visualisation"
      ]
    },
    {
      "cell_type": "markdown",
      "metadata": {
        "id": "oS6SfNY3p8xo"
      },
      "source": [
        "Visualizing frequency of the outcome."
      ]
    },
    {
      "cell_type": "code",
      "metadata": {
        "colab": {
          "base_uri": "https://localhost:8080/",
          "height": 282
        },
        "id": "8F3jzWHtNEif",
        "outputId": "709e2678-4633-474a-ebb3-e82a3be9b0d8"
      },
      "source": [
        "sns.barplot(x=['Not have diabetes','Have diabetes'], y=df['Outcome'].value_counts())"
      ],
      "execution_count": null,
      "outputs": [
        {
          "output_type": "execute_result",
          "data": {
            "text/plain": [
              "<matplotlib.axes._subplots.AxesSubplot at 0x7f63e7288410>"
            ]
          },
          "metadata": {
            "tags": []
          },
          "execution_count": 7
        },
        {
          "output_type": "display_data",
          "data": {
            "image/png": "[encoded data removed]",
            "text/plain": [
              "<Figure size 432x288 with 1 Axes>"
            ]
          },
          "metadata": {
            "tags": [],
            "needs_background": "light"
          }
        }
      ]
    },
    {
      "cell_type": "markdown",
      "metadata": {
        "id": "xz_AEUSF0KRD"
      },
      "source": [
        "### Pearson correlation for Continous Variables"
      ]
    },
    {
      "cell_type": "code",
      "metadata": {
        "colab": {
          "base_uri": "https://localhost:8080/",
          "height": 678
        },
        "id": "TY63JQ0oNfIv",
        "outputId": "2b8cc97a-5f53-4954-fbdb-30c3331b6a45"
      },
      "source": [
        "corr = df.corr()['Outcome'].drop(['Outcome','Age','Pregnancies']).sort_values(ascending=False)\n",
        "plt.figure(figsize=(20,10))\n",
        "sns.barplot(corr.index, corr.values).set(title='Pearson Correlation')"
      ],
      "execution_count": null,
      "outputs": [
        {
          "output_type": "stream",
          "text": [
            "/usr/local/lib/python3.7/dist-packages/seaborn/_decorators.py:43: FutureWarning: Pass the following variables as keyword args: x, y. From version 0.12, the only valid positional argument will be `data`, and passing other arguments without an explicit keyword will result in an error or misinterpretation.\n",
            "  FutureWarning\n"
          ],
          "name": "stderr"
        },
        {
          "output_type": "execute_result",
          "data": {
            "text/plain": [
              "[Text(0.5, 1.0, 'Pearson Correlation')]"
            ]
          },
          "metadata": {
            "tags": []
          },
          "execution_count": 8
        },
        {
          "output_type": "display_data",
          "data": {
            "image/png": "[encoded data removed]",
            "text/plain": [
              "<Figure size 1440x720 with 1 Axes>"
            ]
          },
          "metadata": {
            "tags": [],
            "needs_background": "light"
          }
        }
      ]
    },
    {
      "cell_type": "code",
      "metadata": {
        "colab": {
          "base_uri": "https://localhost:8080/"
        },
        "id": "1jZrHK6zqy3u",
        "outputId": "62a35778-8c53-4c2f-8d64-1215604feff4"
      },
      "source": [
        "corr"
      ],
      "execution_count": null,
      "outputs": [
        {
          "output_type": "execute_result",
          "data": {
            "text/plain": [
              "Glucose                     0.515703\n",
              "Insulin                     0.301429\n",
              "BMI                         0.270118\n",
              "SkinThickness               0.255936\n",
              "DiabetesPedigreeFunction    0.209330\n",
              "BloodPressure               0.192673\n",
              "Name: Outcome, dtype: float64"
            ]
          },
          "metadata": {
            "tags": []
          },
          "execution_count": 9
        }
      ]
    },
    {
      "cell_type": "markdown",
      "metadata": {
        "id": "kbhy_Zf4zAAr"
      },
      "source": [
        "### Spearman correlation for Discrete Variables"
      ]
    },
    {
      "cell_type": "code",
      "metadata": {
        "colab": {
          "base_uri": "https://localhost:8080/",
          "height": 678
        },
        "id": "-I91FDi3zE2s",
        "outputId": "caa0dc22-614e-4742-bbab-bc3c35e6b6c1"
      },
      "source": [
        "corr2 = df.corr(method='spearman')['Outcome'].drop(['Outcome','DiabetesPedigreeFunction','BMI','Insulin','SkinThickness','BloodPressure','Glucose']).sort_values(ascending=False)\n",
        "plt.figure(figsize=(20,10))\n",
        "sns.barplot(corr2.index, corr2.values).set(title='Spearman Correlation')"
      ],
      "execution_count": null,
      "outputs": [
        {
          "output_type": "stream",
          "text": [
            "/usr/local/lib/python3.7/dist-packages/seaborn/_decorators.py:43: FutureWarning: Pass the following variables as keyword args: x, y. From version 0.12, the only valid positional argument will be `data`, and passing other arguments without an explicit keyword will result in an error or misinterpretation.\n",
            "  FutureWarning\n"
          ],
          "name": "stderr"
        },
        {
          "output_type": "execute_result",
          "data": {
            "text/plain": [
              "[Text(0.5, 1.0, 'Spearman Correlation')]"
            ]
          },
          "metadata": {
            "tags": []
          },
          "execution_count": 10
        },
        {
          "output_type": "display_data",
          "data": {
            "image/png": "[encoded data removed]",
            "text/plain": [
              "<Figure size 1440x720 with 1 Axes>"
            ]
          },
          "metadata": {
            "tags": [],
            "needs_background": "light"
          }
        }
      ]
    },
    {
      "cell_type": "code",
      "metadata": {
        "colab": {
          "base_uri": "https://localhost:8080/"
        },
        "id": "ZSg4kEpu0Raf",
        "outputId": "49bdb7e4-97db-44d4-812f-6d4cf9efa7bf"
      },
      "source": [
        "corr2"
      ],
      "execution_count": null,
      "outputs": [
        {
          "output_type": "execute_result",
          "data": {
            "text/plain": [
              "Age            0.397355\n",
              "Pregnancies    0.200234\n",
              "Name: Outcome, dtype: float64"
            ]
          },
          "metadata": {
            "tags": []
          },
          "execution_count": 11
        }
      ]
    },
    {
      "cell_type": "markdown",
      "metadata": {
        "id": "kt_Ah614PUJ1"
      },
      "source": [
        "## **Activation Functions**\n",
        "\n",
        "Use several activation functions to be tested in the logistic regression process."
      ]
    },
    {
      "cell_type": "markdown",
      "metadata": {
        "id": "Xe86dO01sr_f"
      },
      "source": [
        "### Sigmoid Activation Function"
      ]
    },
    {
      "cell_type": "code",
      "metadata": {
        "id": "iUw_rSP8sufG"
      },
      "source": [
        "def sigmoid(z):\n",
        "    \"\"\"\n",
        "    Compute sigmoid function given the input z\n",
        "    \"\"\"\n",
        "    # convert input to a numpy array\n",
        "    z = np.array(z)\n",
        "    \n",
        "    # You need to return the following variables correctly \n",
        "    g = np.zeros(z.shape)\n",
        "\n",
        "    \n",
        "    g = 1 / ( 1 + np.exp(-z))\n",
        "    \n",
        "    return g"
      ],
      "execution_count": null,
      "outputs": []
    },
    {
      "cell_type": "markdown",
      "metadata": {
        "id": "8m0VLr97OJzt"
      },
      "source": [
        "## **Binary Cross Entropy cost function**\n",
        "theta : weights <br>\n",
        "X : inputs <br>\n",
        "y : labels <br>\n",
        "act_func : activation function used. Default is sigmoid <br>\n",
        "lambda_ : size of regularization paramter. Default is 0 <br>"
      ]
    },
    {
      "cell_type": "code",
      "metadata": {
        "id": "Ud08BD6UsvkD"
      },
      "source": [
        "def costFunction(theta, X, y, act_func=sigmoid, lambda_=0):\n",
        "    \"\"\"\n",
        "    Compute cost and gradient for logistic regression.\n",
        "    \"\"\"\n",
        "    # Initialize some useful values\n",
        "    m = y.size  # number of training examples\n",
        "\n",
        "    theta_copy = theta.copy()\n",
        "    theta_copy[0] = 0\n",
        "\n",
        "    \n",
        "    h = act_func( np.dot(X, theta) )\n",
        "    J = (1/m) * np.sum(  -(y*(np.log(h))) - ((1-y)*(np.log(1-h)))  ) + ((lambda_/(2*m)) * np.dot(theta_copy.T, theta_copy))\n",
        "    \n",
        "    grad = (1/m)*np.dot(X.T,(h-y)) + ((lambda_/m)*theta_copy)\n",
        "    \n",
        "    return J, grad"
      ],
      "execution_count": null,
      "outputs": []
    },
    {
      "cell_type": "markdown",
      "metadata": {
        "id": "zJ8xceJ2OYD1"
      },
      "source": [
        "## Make predictions based on the weights theta\n",
        "Takes in a threshold value and classifies as 1 or 0 (or 1 or -1)"
      ]
    },
    {
      "cell_type": "code",
      "metadata": {
        "id": "ZiYPxcjOq0vA"
      },
      "source": [
        "def predict(X, theta, act_func=sigmoid, threshold=0.5):\n",
        "    \"\"\"\n",
        "    Predict whether the label is 0 or 1 (or -1 or 1) using learned logistic regression.  \n",
        "    \"\"\"\n",
        "    m = X.shape[0] # Number of training examples\n",
        "\n",
        "    p = np.zeros(m)\n",
        "    \n",
        "    p = act_func(np.dot(X, theta)) > threshold\n",
        "    \n",
        "    return p"
      ],
      "execution_count": null,
      "outputs": []
    },
    {
      "cell_type": "markdown",
      "metadata": {
        "id": "KGpj-PveOcA8"
      },
      "source": [
        "## **Gradient Descent**"
      ]
    },
    {
      "cell_type": "code",
      "metadata": {
        "id": "tI2iniz1OgLU"
      },
      "source": [
        "def gradient_descent(X,y,theta,learning_rate=0.01,iterations=100,act_func=sigmoid, lambda_=0):\n",
        "    m = y.shape[0]\n",
        "    cost_history = np.zeros((iterations,))\n",
        "    theta_history = np.zeros((iterations,X.shape[1]))\n",
        "    \n",
        "    for i in range(iterations):\n",
        "        z = np.dot(X, theta)\n",
        "        prediction = act_func(z)\n",
        "        \n",
        "        J, grad = costFunction(theta, X, y, act_func, lambda_)\n",
        "        \n",
        "        theta = theta - ( (1/m) * learning_rate * grad )\n",
        "        \n",
        "        # storing the cost values\n",
        "        cost_history[i] = J\n",
        "        \n",
        "        # storing theta values\n",
        "        theta_history[i,:] = theta\n",
        "        \n",
        "    return theta, theta_history, cost_history"
      ],
      "execution_count": null,
      "outputs": []
    },
    {
      "cell_type": "markdown",
      "metadata": {
        "id": "BAd0cNRnOm5W"
      },
      "source": [
        "# Running logistic regression"
      ]
    },
    {
      "cell_type": "code",
      "metadata": {
        "id": "JZRpZ2fKTXW9"
      },
      "source": [
        "data = df.to_numpy() # convert the data to numpy array\n",
        "\n",
        "np.random.seed(5) # seed to get same graphs\n",
        "np.random.shuffle(data)\n",
        "\n",
        "# adding a column of ones\n",
        "m = data.shape[0]\n",
        "data = np.hstack((np.ones((m,1)),data))\n",
        "\n",
        "# splitting data into features and labels\n",
        "X = data[:, 0:-1]\n",
        "y = data[:,-1]\n",
        "\n",
        "# what % of the data to be in the trianing set\n",
        "train_size = 0.7 \n",
        "X_train, X_test, y_train, y_test = X[:int(0.7*m),:], X[int(0.7*m):,:], y[:int(0.7*m)], y[int(0.7*m):]"
      ],
      "execution_count": null,
      "outputs": []
    },
    {
      "cell_type": "markdown",
      "metadata": {
        "id": "XoKp1bO0VFER"
      },
      "source": [
        "## Learning rate selection\n",
        "0.3 seems to be the best learning rate"
      ]
    },
    {
      "cell_type": "code",
      "metadata": {
        "colab": {
          "base_uri": "https://localhost:8080/",
          "height": 295
        },
        "id": "9O7fmP2yVQZZ",
        "outputId": "f129fc94-9d57-4e33-9ae0-ea65a975a977"
      },
      "source": [
        "# settings for gradient descent\n",
        "iterations = 100000\n",
        "learning_rates = [0.01, 0.03, 0.1, 0.3]\n",
        "initial_theta = np.zeros((X.shape[1],)) # initializing parameters to 0\n",
        "\n",
        "# for graph plotting\n",
        "x_axis = np.arange(start=0, stop=iterations, step=1)\n",
        "\n",
        "theta_storage = {}\n",
        "for alpha in learning_rates:\n",
        "\n",
        "    # running logistic regression with different alpha\n",
        "    theta, theta_history, cost_history = gradient_descent(X_train,y_train,initial_theta,learning_rate=alpha,iterations=iterations)\n",
        "    \n",
        "    theta_storage[alpha] = (theta, theta_history, cost_history)\n",
        "    \n",
        "    plt.plot(x_axis, cost_history)\n",
        "\n",
        "plt.title(\"GD on different learning rate\")\n",
        "plt.xlabel(\"iteration\")\n",
        "plt.ylabel(\"log loss\")\n",
        "plt.legend(learning_rates, loc =\"upper right\")\n",
        "plt.yscale(\"log\")"
      ],
      "execution_count": null,
      "outputs": [
        {
          "output_type": "display_data",
          "data": {
            "image/png": "[encoded data removed]",
            "text/plain": [
              "<Figure size 432x288 with 1 Axes>"
            ]
          },
          "metadata": {
            "tags": [],
            "needs_background": "light"
          }
        }
      ]
    },
    {
      "cell_type": "markdown",
      "metadata": {
        "id": "VDgJWRONeY4n"
      },
      "source": [
        "## Chceking if the model overfits\n",
        "Model doesn't seem to be overfitting as the accuracy does not drop after a certain number of iterations"
      ]
    },
    {
      "cell_type": "code",
      "metadata": {
        "colab": {
          "base_uri": "https://localhost:8080/",
          "height": 316
        },
        "id": "L0vnEeelilO_",
        "outputId": "20fa8ac3-caa9-45a7-d442-99c8cddce92d"
      },
      "source": [
        "alpha = 0.3\n",
        "\n",
        "predictions = predict(X_test, theta_storage[alpha][0])\n",
        "# accuracy calculation\n",
        "correct = predictions == y_test\n",
        "print(\"test set accuracy = \", sum(correct)/correct.size)\n",
        "\n",
        "predictions_graph = []\n",
        "\n",
        "for i in range(len(theta_storage[alpha][1])):\n",
        "    predictions = predict(X_test, theta_storage[alpha][1][i])\n",
        "    \n",
        "    correct = predictions == y_test\n",
        "\n",
        "    predictions_graph.append(sum(correct)/correct.size)\n",
        "\n",
        "print(\"max of predictions graph =\", max(predictions_graph))\n",
        "plt.plot(np.arange(start=0, stop=len(theta_storage[alpha][1]), step=1) , predictions_graph)"
      ],
      "execution_count": null,
      "outputs": [
        {
          "output_type": "stream",
          "text": [
            "test set accuracy =  0.7457627118644068\n",
            "max of predictions graph = 0.7457627118644068\n"
          ],
          "name": "stdout"
        },
        {
          "output_type": "execute_result",
          "data": {
            "text/plain": [
              "[<matplotlib.lines.Line2D at 0x7f63e5ecead0>]"
            ]
          },
          "metadata": {
            "tags": []
          },
          "execution_count": 19
        },
        {
          "output_type": "display_data",
          "data": {
            "image/png": "[encoded data removed]",
            "text/plain": [
              "<Figure size 432x288 with 1 Axes>"
            ]
          },
          "metadata": {
            "tags": [],
            "needs_background": "light"
          }
        }
      ]
    },
    {
      "cell_type": "markdown",
      "metadata": {
        "id": "unrqr3NYoZLK"
      },
      "source": [
        "# **Model Evaluation**"
      ]
    },
    {
      "cell_type": "markdown",
      "metadata": {
        "id": "n7TuLI-B5_-J"
      },
      "source": [
        "## Confusion matrix"
      ]
    },
    {
      "cell_type": "code",
      "metadata": {
        "id": "7zJabyhjpD_I"
      },
      "source": [
        "def compute_confusion_matrix(true, pred):\n",
        "  '''Computes a confusion matrix using numpy for two np.arrays\n",
        "  true and pred.\n",
        "\n",
        "  Results are identical (and similar in computation time) to: \n",
        "    \"from sklearn.metrics import confusion_matrix\"\n",
        "\n",
        "  However, this function avoids the dependency on sklearn.'''\n",
        "  K = len(np.unique(true)) # Number of classes \n",
        "  result = np.zeros((K, K))\n",
        "  for i in range(len(true)):\n",
        "    result[true[i]][pred[i]] += 1\n",
        "\n",
        "  return result.astype(int)"
      ],
      "execution_count": null,
      "outputs": []
    },
    {
      "cell_type": "code",
      "metadata": {
        "colab": {
          "base_uri": "https://localhost:8080/"
        },
        "id": "TyhncZHy6EO8",
        "outputId": "81e388c7-fea7-48df-8e60-7e9f13c0b79a"
      },
      "source": [
        "conf_matrix = compute_confusion_matrix(y_test.astype(int),predict(X_test, theta)+0)\n",
        "conf_matrix"
      ],
      "execution_count": null,
      "outputs": [
        {
          "output_type": "execute_result",
          "data": {
            "text/plain": [
              "array([[65, 13],\n",
              "       [17, 23]])"
            ]
          },
          "metadata": {
            "tags": []
          },
          "execution_count": 21
        }
      ]
    },
    {
      "cell_type": "markdown",
      "metadata": {
        "id": "m8juojwa8UAw"
      },
      "source": [
        "## Choosing the best threshold\n",
        "\n",
        "Best threshold is chosen based on the receiver operating characteristic curve.\n",
        "Since we are predicting wether a person have disease, it is important to minimise false negative."
      ]
    },
    {
      "cell_type": "code",
      "metadata": {
        "id": "QRVlskzCwmWO"
      },
      "source": [
        "def calc_fpr_tpr(conf_matrix):\n",
        "  tpr = conf_matrix[1][1]/(conf_matrix[1][1]+conf_matrix[1][0])\n",
        "  fpr = conf_matrix[0][1]/(conf_matrix[0][1]+conf_matrix[0][0])\n",
        "  return (fpr,tpr)"
      ],
      "execution_count": null,
      "outputs": []
    },
    {
      "cell_type": "code",
      "metadata": {
        "id": "jQ6ymmkCzDb6"
      },
      "source": [
        "fpr_list = []\n",
        "tpr_list = []\n",
        "for i in np.linspace(0,1,100):\n",
        "  conf_matrix = compute_confusion_matrix(y_test.astype(int),predict(X_test, theta,threshold=i)+0)\n",
        "  fpr,tpr = calc_fpr_tpr(conf_matrix)\n",
        "  fpr_list.append(fpr)\n",
        "  tpr_list.append(tpr)"
      ],
      "execution_count": null,
      "outputs": []
    },
    {
      "cell_type": "code",
      "metadata": {
        "colab": {
          "base_uri": "https://localhost:8080/",
          "height": 355
        },
        "id": "bp_7dDbVyIii",
        "outputId": "a6b54321-09b7-48f9-b483-9bc349f91541"
      },
      "source": [
        "plt.figure(figsize=(5,5))\n",
        "plt.ylim(0, 1)\n",
        "plt.xlim(0, 1)\n",
        "plt.ylabel('True Positive Rate')\n",
        "plt.xlabel('False Positive Rate')\n",
        "ax = sns.lineplot(x=[0,1],y=[0,1],color='green')\n",
        "ax.lines[0].set_linestyle(\"--\")\n",
        "sns.lineplot(x=fpr_list,y=tpr_list,size=1)\n",
        "sns.scatterplot(x=fpr_list,y=tpr_list,size=1)\n",
        "plt.legend([],[], frameon=False)"
      ],
      "execution_count": null,
      "outputs": [
        {
          "output_type": "execute_result",
          "data": {
            "text/plain": [
              "<matplotlib.legend.Legend at 0x7f63e0091e10>"
            ]
          },
          "metadata": {
            "tags": []
          },
          "execution_count": 106
        },
        {
          "output_type": "display_data",
          "data": {
            "image/png": "[encoded data removed]",
            "text/plain": [
              "<Figure size 360x360 with 1 Axes>"
            ]
          },
          "metadata": {
            "tags": [],
            "needs_background": "light"
          }
        }
      ]
    },
    {
      "cell_type": "markdown",
      "metadata": {
        "id": "M9RRh1HF8wmT"
      },
      "source": [
        "# **0.5 threshold value is chosen**"
      ]
    },
    {
      "cell_type": "markdown",
      "metadata": {
        "id": "C5xjK2Z36Odj"
      },
      "source": [
        "## Calculate f1-score"
      ]
    },
    {
      "cell_type": "code",
      "metadata": {
        "id": "YgWYrPZh32g0"
      },
      "source": [
        "def compute_f1_score(conf_matrix):\n",
        "  recall = (conf_matrix[1][1])/(conf_matrix[1][1]+conf_matrix[1][0])\n",
        "  precision = (conf_matrix[1][1])/(conf_matrix[1][1]+conf_matrix[0][1])\n",
        "  f1 = 2*(precision * recall)/(precision + recall)\n",
        "  return f1"
      ],
      "execution_count": null,
      "outputs": []
    },
    {
      "cell_type": "code",
      "metadata": {
        "colab": {
          "base_uri": "https://localhost:8080/"
        },
        "id": "YqK07SxP6a8E",
        "outputId": "b7ea9c49-7aaa-46c6-fa19-da7df262f164"
      },
      "source": [
        "compute_f1_score(conf_matrix)"
      ],
      "execution_count": null,
      "outputs": [
        {
          "output_type": "stream",
          "text": [
            "0.60501\n"
          ],
          "name": "stdout"
        }
      ]
    }
  ]
}